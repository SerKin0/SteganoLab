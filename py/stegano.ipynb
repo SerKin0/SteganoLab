{
 "cells": [
  {
   "cell_type": "markdown",
   "id": "7ccc64da",
   "metadata": {},
   "source": [
    "# **Лабораторная работа \"Стеганография\"**"
   ]
  },
  {
   "cell_type": "code",
   "execution_count": null,
   "id": "1b14894d",
   "metadata": {},
   "outputs": [],
   "source": [
    "!pip install -r requirements.txt"
   ]
  },
  {
   "cell_type": "code",
   "execution_count": null,
   "id": "d1291e87",
   "metadata": {},
   "outputs": [],
   "source": [
    "import cv2\n",
    "import numpy as np\n",
    "import matplotlib.pyplot as plt"
   ]
  },
  {
   "cell_type": "markdown",
   "id": "821c75b4",
   "metadata": {},
   "source": [
    "## Разбиение изображения на биты\n",
    "\n",
    "Каждый пиксель изображения содержит три цветовых канала `RGB`, где каждый канал представлен 8-битным числом от 0 до 255. Метод `LSB` использует младшие биты этих каналов для скрытия данных.\n",
    "\n",
    "Например, если мы шифруем информацию двумя битами, то наш текст будет храниться в последних двух битах оригинального изображения до шифрования.\n",
    "\n",
    "Возьмем пиксель со значениями:\n",
    "\n",
    "- Красный канал: 173 (в двоичной системе `10101101`)\n",
    "- Зеленый канал: 210 (`11010010`)\n",
    "- Синий канал: 95 (`01011111`)\n",
    "\n",
    "Если мы хотим спрятать символ `\"A\"`, который в бинарном виде выглядит как `01000001`, мы разбиваем его на четыре двухбитных фрагмента: `01`, `00`, `00`, `01`. Затем подставляем эти фрагменты вместо двух младших битов в цветовых каналах:\n",
    "\n",
    "После внедрения получаем:\n",
    "\n",
    "- Красный: `10101101` → `10101101` (без изменений, так как последние два бита уже `01`)\n",
    "- Зеленый: `11010010` → `11010000` (последние два бита заменены на `00`)\n",
    "- Синий: `01011111` → `01011101` (последние два бита заменены на `01`)\n",
    "\n",
    "Таким образом, мы спрятали весь символ `\"A\"` всего в одном пикселе, используя по два младших бита из каждого цветового канала."
   ]
  },
  {
   "cell_type": "code",
   "execution_count": null,
   "id": "00af5ffb",
   "metadata": {},
   "outputs": [],
   "source": [
    "# Путь к фотографии\n",
    "path_image = '../1007.png'\n",
    "\n",
    "image = cv2.imread(path_image)\n",
    "image_rgb = cv2.cvtColor(image, cv2.COLOR_BGR2RGB)"
   ]
  },
  {
   "cell_type": "code",
   "execution_count": null,
   "id": "04e3acd6",
   "metadata": {},
   "outputs": [],
   "source": [
    "plt.imshow(image_rgb)\n",
    "plt.title(\"Зашифрованное изображение\")\n",
    "plt.xticks([])\n",
    "plt.yticks([])\n",
    "plt.show()"
   ]
  },
  {
   "cell_type": "markdown",
   "id": "93d32d0f",
   "metadata": {},
   "source": [
    "Создаем битовые плоскости изображения:\n",
    "\n",
    "- Каждый пиксель раскладываем на 8 бит\n",
    "- Для n-го бита строится бинарная матрица:\n",
    "- - Если n-й бит = 1 → черный пиксель\n",
    "- - Если n-й бит = 0 → белый пиксель\n",
    "\n",
    "Таким образом получаем `3n` монохромных изображений, где каждое показывает распределение конкретного бита по всему изображению. Младшие биты (LSB) обычно выглядят как случайный шум, а старшие содержат основную структурную информацию изображения."
   ]
  },
  {
   "cell_type": "code",
   "execution_count": null,
   "id": "97a741a1",
   "metadata": {},
   "outputs": [],
   "source": [
    "colors = {0: 'red', 1: 'green', 2: 'blue'}\n",
    "\n",
    "def rastr(image: np.ndarray, color: int, bit: int) -> np.ndarray:\n",
    "    ysize, xsize = image.shape[:2]\n",
    "    image_result = np.zeros((ysize, xsize))\n",
    "\n",
    "    for i in range(ysize):\n",
    "        for j in range(xsize):\n",
    "            image_result[i][j] = image[i][j][color] & bit\n",
    "    return image_result"
   ]
  },
  {
   "cell_type": "code",
   "execution_count": null,
   "id": "a0e0e61f",
   "metadata": {},
   "outputs": [],
   "source": [
    "bit_max = 8\n",
    "\n",
    "plt.figure(figsize=(40,80))\n",
    "for bit in range(bit_max):\n",
    "    for color_idx, color_name in colors.items():\n",
    "        plt.subplot(bit_max, 3, bit * 3 + color_idx + 1)\n",
    "\n",
    "        plt.title(f\"Бит: {bit}\\nЦвет: {color_name}\")\n",
    "        plt.imshow(rastr(image_rgb, color_idx, bit), cmap='gray')\n",
    "        plt.xticks([])\n",
    "        plt.yticks([])\n",
    "\n",
    "plt.show()"
   ]
  },
  {
   "cell_type": "code",
   "execution_count": null,
   "id": "fdaacb8d",
   "metadata": {},
   "outputs": [],
   "source": [
    "color_temp, bit_temp = 1, 2\n",
    "\n",
    "plt.title(f\"Бит: {bit_temp}\\nЦвет: {colors.get(color_temp)}\")\n",
    "plt.imshow(rastr(image_rgb, color_temp, bit_temp), cmap='gray')\n",
    "plt.xticks([])\n",
    "plt.yticks([])\n",
    "plt.show()"
   ]
  },
  {
   "cell_type": "markdown",
   "id": "38112d6c",
   "metadata": {},
   "source": [
    "## **Гистограмма**"
   ]
  },
  {
   "cell_type": "code",
   "execution_count": null,
   "id": "e72a601b",
   "metadata": {},
   "outputs": [],
   "source": [
    "def channel(index: int = 0):\n",
    "    ysize, xsize = image_rgb.shape[:2]\n",
    "    hist = np.zeros(256)\n",
    "    \n",
    "    for line in image_rgb:\n",
    "        for pixel in line:\n",
    "            # Исправлено: pixel[index] уже дает значение 0-255\n",
    "            hist[pixel[index]] += 1  # убрал -1\n",
    "\n",
    "    return hist\n",
    "\n",
    "# Получаем гистограммы\n",
    "r_hist = channel(0)\n",
    "g_hist = channel(1)\n",
    "b_hist = channel(2)\n",
    "\n",
    "print(\"Red channel histogram sums:\", np.sum(r_hist))\n",
    "\n",
    "# Построение гистограмм - ПРАВИЛЬНЫЙ способ\n",
    "plt.figure(figsize=(8, 8))\n",
    "\n",
    "# Способ 1: Использовать готовые гистограммы как данные\n",
    "plt.subplot(3, 1, 1)\n",
    "plt.plot(range(256), r_hist, color='red', alpha=0.7)\n",
    "plt.title('Красный')\n",
    "plt.xlim([0, 255])\n",
    "plt.xlabel('')\n",
    "\n",
    "plt.subplot(3, 1, 2)\n",
    "plt.plot(range(256), g_hist, color='green', alpha=0.7)\n",
    "plt.title('Зеленый')\n",
    "plt.xlim([0, 255])\n",
    "\n",
    "plt.subplot(3, 1, 3)\n",
    "plt.plot(range(256), b_hist, color='blue', alpha=0.7)\n",
    "plt.title('Синий')\n",
    "plt.xlim([0, 255])\n",
    "\n",
    "plt.tight_layout()\n",
    "plt.show()"
   ]
  },
  {
   "cell_type": "markdown",
   "id": "2592fe0e",
   "metadata": {},
   "source": [
    "## **Серые оттенки**"
   ]
  },
  {
   "cell_type": "code",
   "execution_count": null,
   "id": "d182e2d7",
   "metadata": {},
   "outputs": [],
   "source": [
    "def image_to_grey(image):\n",
    "    ysize, xsize = image_rgb.shape[:2]\n",
    "    image_grey = np.zeros((ysize, xsize))\n",
    "\n",
    "    for i in range(ysize):\n",
    "        for j in range(xsize):\n",
    "            r, g, b = image[i][j]\n",
    "            temp_grey = (r + g + b) / 3\n",
    "            image_grey[i][j] = temp_grey\n",
    "\n",
    "    return image_grey\n",
    "\n",
    "image_grey = image_to_grey(image_rgb)\n",
    "\n",
    "plt.imshow(image_grey, cmap='gray')\n",
    "plt.show()"
   ]
  },
  {
   "cell_type": "markdown",
   "id": "776cd773",
   "metadata": {},
   "source": [
    "## **Дешифровка (LSB)**\n",
    "\n",
    "Для дешифрования сделаем:\n",
    "\n",
    "1) Приведем двумерный массив к одномерному;\n",
    "2) Создадим список для хранения зашифрованных битов по трем каналам;\n",
    "3) Полученный массив разделяем на 8 битов и приводим к текстовому формату (например по кодеровке UTF-8)."
   ]
  },
  {
   "cell_type": "code",
   "execution_count": null,
   "id": "35886707",
   "metadata": {},
   "outputs": [],
   "source": [
    "def lsb(image: np.ndarray, bit: int) -> str:\n",
    "    line = image.reshape(-1, 3)\n",
    "\n",
    "    bit_list = []\n",
    "    for pixel in line:\n",
    "        r, g, b = pixel\n",
    "        for chanel in (r, g, b):\n",
    "            bit_list.extend([(chanel >> i) & 1 for i in range(bit-1, -1, -1)])\n",
    "\n",
    "    bit_data = bytearray()\n",
    "    for i in range(0, len(bit_list), 8):\n",
    "        if i + 8 > len(bit_list):\n",
    "            break\n",
    "        val = 0\n",
    "        for j in range(8):\n",
    "            val = (val << 1) | bit_list[i + j]\n",
    "        bit_data.append(val)\n",
    "\n",
    "    try:\n",
    "        text = bit_data.decode('utf-8', errors='replace')\n",
    "        return \"Текст (UTF-8):\", text.split('\\x00')[0]  \n",
    "    except:\n",
    "        text = bit_data.decode('latin1', errors='replace')\n",
    "        return \"Текст (Latin-1):\", text.split('\\x00')[0]\n",
    "\n",
    "\n",
    "\n",
    "with open('test.txt', 'w') as file:\n",
    "    file.writelines(lsb(image_rgb, 2))"
   ]
  },
  {
   "cell_type": "code",
   "execution_count": null,
   "id": "097a7f6a",
   "metadata": {},
   "outputs": [],
   "source": []
  }
 ],
 "metadata": {
  "kernelspec": {
   "display_name": "Python 3",
   "language": "python",
   "name": "python3"
  },
  "language_info": {
   "codemirror_mode": {
    "name": "ipython",
    "version": 3
   },
   "file_extension": ".py",
   "mimetype": "text/x-python",
   "name": "python",
   "nbconvert_exporter": "python",
   "pygments_lexer": "ipython3",
   "version": "3.13.9"
  }
 },
 "nbformat": 4,
 "nbformat_minor": 5
}
